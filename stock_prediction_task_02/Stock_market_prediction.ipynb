{
  "nbformat": 4,
  "nbformat_minor": 0,
  "metadata": {
    "colab": {
      "provenance": []
    },
    "kernelspec": {
      "name": "python3",
      "display_name": "Python 3"
    },
    "language_info": {
      "name": "python"
    }
  },
  "cells": [
    {
      "cell_type": "code",
      "source": [
        "!pip install keras"
      ],
      "metadata": {
        "colab": {
          "base_uri": "https://localhost:8080/"
        },
        "id": "pI9kHu-lCqGB",
        "outputId": "7aba5579-8a2e-47a1-a0d4-7ac469923134"
      },
      "execution_count": 21,
      "outputs": [
        {
          "output_type": "stream",
          "name": "stdout",
          "text": [
            "Requirement already satisfied: keras in /usr/local/lib/python3.10/dist-packages (2.12.0)\n"
          ]
        }
      ]
    },
    {
      "cell_type": "code",
      "execution_count": 22,
      "metadata": {
        "id": "fklmMto4uWbA"
      },
      "outputs": [],
      "source": [
        "import pandas as pd\n",
        "import numpy as np\n",
        "import matplotlib.pyplot as plt\n",
        "from sklearn.preprocessing import MinMaxScaler\n",
        "from sklearn.metrics import mean_squared_error\n",
        "import tensorflow as tf\n",
        "from tensorflow.keras.models import Sequential\n",
        "from tensorflow.keras.layers import LSTM, Dense"
      ]
    },
    {
      "cell_type": "code",
      "source": [
        "data=pd.read_csv(\"stock-market.txt\")"
      ],
      "metadata": {
        "id": "n3zl63GBuiLZ"
      },
      "execution_count": 23,
      "outputs": []
    },
    {
      "cell_type": "code",
      "source": [
        "data.head()"
      ],
      "metadata": {
        "colab": {
          "base_uri": "https://localhost:8080/",
          "height": 206
        },
        "id": "PCt0-Nf8unzd",
        "outputId": "15c62a7d-50aa-4358-8932-fde0bc230fd7"
      },
      "execution_count": 24,
      "outputs": [
        {
          "output_type": "execute_result",
          "data": {
            "text/plain": [
              "         Date    Open    High     Low    Last   Close  Total Trade Quantity  \\\n",
              "0  2018-09-28  234.05  235.95  230.20  233.50  233.75               3069914   \n",
              "1  2018-09-27  234.55  236.80  231.10  233.80  233.25               5082859   \n",
              "2  2018-09-26  240.00  240.00  232.50  235.00  234.25               2240909   \n",
              "3  2018-09-25  233.30  236.75  232.00  236.25  236.10               2349368   \n",
              "4  2018-09-24  233.55  239.20  230.75  234.00  233.30               3423509   \n",
              "\n",
              "   Turnover (Lacs)  \n",
              "0          7162.35  \n",
              "1         11859.95  \n",
              "2          5248.60  \n",
              "3          5503.90  \n",
              "4          7999.55  "
            ],
            "text/html": [
              "\n",
              "  <div id=\"df-7da7550b-691e-408b-b04d-105ffc44d498\" class=\"colab-df-container\">\n",
              "    <div>\n",
              "<style scoped>\n",
              "    .dataframe tbody tr th:only-of-type {\n",
              "        vertical-align: middle;\n",
              "    }\n",
              "\n",
              "    .dataframe tbody tr th {\n",
              "        vertical-align: top;\n",
              "    }\n",
              "\n",
              "    .dataframe thead th {\n",
              "        text-align: right;\n",
              "    }\n",
              "</style>\n",
              "<table border=\"1\" class=\"dataframe\">\n",
              "  <thead>\n",
              "    <tr style=\"text-align: right;\">\n",
              "      <th></th>\n",
              "      <th>Date</th>\n",
              "      <th>Open</th>\n",
              "      <th>High</th>\n",
              "      <th>Low</th>\n",
              "      <th>Last</th>\n",
              "      <th>Close</th>\n",
              "      <th>Total Trade Quantity</th>\n",
              "      <th>Turnover (Lacs)</th>\n",
              "    </tr>\n",
              "  </thead>\n",
              "  <tbody>\n",
              "    <tr>\n",
              "      <th>0</th>\n",
              "      <td>2018-09-28</td>\n",
              "      <td>234.05</td>\n",
              "      <td>235.95</td>\n",
              "      <td>230.20</td>\n",
              "      <td>233.50</td>\n",
              "      <td>233.75</td>\n",
              "      <td>3069914</td>\n",
              "      <td>7162.35</td>\n",
              "    </tr>\n",
              "    <tr>\n",
              "      <th>1</th>\n",
              "      <td>2018-09-27</td>\n",
              "      <td>234.55</td>\n",
              "      <td>236.80</td>\n",
              "      <td>231.10</td>\n",
              "      <td>233.80</td>\n",
              "      <td>233.25</td>\n",
              "      <td>5082859</td>\n",
              "      <td>11859.95</td>\n",
              "    </tr>\n",
              "    <tr>\n",
              "      <th>2</th>\n",
              "      <td>2018-09-26</td>\n",
              "      <td>240.00</td>\n",
              "      <td>240.00</td>\n",
              "      <td>232.50</td>\n",
              "      <td>235.00</td>\n",
              "      <td>234.25</td>\n",
              "      <td>2240909</td>\n",
              "      <td>5248.60</td>\n",
              "    </tr>\n",
              "    <tr>\n",
              "      <th>3</th>\n",
              "      <td>2018-09-25</td>\n",
              "      <td>233.30</td>\n",
              "      <td>236.75</td>\n",
              "      <td>232.00</td>\n",
              "      <td>236.25</td>\n",
              "      <td>236.10</td>\n",
              "      <td>2349368</td>\n",
              "      <td>5503.90</td>\n",
              "    </tr>\n",
              "    <tr>\n",
              "      <th>4</th>\n",
              "      <td>2018-09-24</td>\n",
              "      <td>233.55</td>\n",
              "      <td>239.20</td>\n",
              "      <td>230.75</td>\n",
              "      <td>234.00</td>\n",
              "      <td>233.30</td>\n",
              "      <td>3423509</td>\n",
              "      <td>7999.55</td>\n",
              "    </tr>\n",
              "  </tbody>\n",
              "</table>\n",
              "</div>\n",
              "    <div class=\"colab-df-buttons\">\n",
              "\n",
              "  <div class=\"colab-df-container\">\n",
              "    <button class=\"colab-df-convert\" onclick=\"convertToInteractive('df-7da7550b-691e-408b-b04d-105ffc44d498')\"\n",
              "            title=\"Convert this dataframe to an interactive table.\"\n",
              "            style=\"display:none;\">\n",
              "\n",
              "  <svg xmlns=\"http://www.w3.org/2000/svg\" height=\"24px\" viewBox=\"0 -960 960 960\">\n",
              "    <path d=\"M120-120v-720h720v720H120Zm60-500h600v-160H180v160Zm220 220h160v-160H400v160Zm0 220h160v-160H400v160ZM180-400h160v-160H180v160Zm440 0h160v-160H620v160ZM180-180h160v-160H180v160Zm440 0h160v-160H620v160Z\"/>\n",
              "  </svg>\n",
              "    </button>\n",
              "\n",
              "  <style>\n",
              "    .colab-df-container {\n",
              "      display:flex;\n",
              "      gap: 12px;\n",
              "    }\n",
              "\n",
              "    .colab-df-convert {\n",
              "      background-color: #E8F0FE;\n",
              "      border: none;\n",
              "      border-radius: 50%;\n",
              "      cursor: pointer;\n",
              "      display: none;\n",
              "      fill: #1967D2;\n",
              "      height: 32px;\n",
              "      padding: 0 0 0 0;\n",
              "      width: 32px;\n",
              "    }\n",
              "\n",
              "    .colab-df-convert:hover {\n",
              "      background-color: #E2EBFA;\n",
              "      box-shadow: 0px 1px 2px rgba(60, 64, 67, 0.3), 0px 1px 3px 1px rgba(60, 64, 67, 0.15);\n",
              "      fill: #174EA6;\n",
              "    }\n",
              "\n",
              "    .colab-df-buttons div {\n",
              "      margin-bottom: 4px;\n",
              "    }\n",
              "\n",
              "    [theme=dark] .colab-df-convert {\n",
              "      background-color: #3B4455;\n",
              "      fill: #D2E3FC;\n",
              "    }\n",
              "\n",
              "    [theme=dark] .colab-df-convert:hover {\n",
              "      background-color: #434B5C;\n",
              "      box-shadow: 0px 1px 3px 1px rgba(0, 0, 0, 0.15);\n",
              "      filter: drop-shadow(0px 1px 2px rgba(0, 0, 0, 0.3));\n",
              "      fill: #FFFFFF;\n",
              "    }\n",
              "  </style>\n",
              "\n",
              "    <script>\n",
              "      const buttonEl =\n",
              "        document.querySelector('#df-7da7550b-691e-408b-b04d-105ffc44d498 button.colab-df-convert');\n",
              "      buttonEl.style.display =\n",
              "        google.colab.kernel.accessAllowed ? 'block' : 'none';\n",
              "\n",
              "      async function convertToInteractive(key) {\n",
              "        const element = document.querySelector('#df-7da7550b-691e-408b-b04d-105ffc44d498');\n",
              "        const dataTable =\n",
              "          await google.colab.kernel.invokeFunction('convertToInteractive',\n",
              "                                                    [key], {});\n",
              "        if (!dataTable) return;\n",
              "\n",
              "        const docLinkHtml = 'Like what you see? Visit the ' +\n",
              "          '<a target=\"_blank\" href=https://colab.research.google.com/notebooks/data_table.ipynb>data table notebook</a>'\n",
              "          + ' to learn more about interactive tables.';\n",
              "        element.innerHTML = '';\n",
              "        dataTable['output_type'] = 'display_data';\n",
              "        await google.colab.output.renderOutput(dataTable, element);\n",
              "        const docLink = document.createElement('div');\n",
              "        docLink.innerHTML = docLinkHtml;\n",
              "        element.appendChild(docLink);\n",
              "      }\n",
              "    </script>\n",
              "  </div>\n",
              "\n",
              "\n",
              "<div id=\"df-d0a650d3-ae55-41aa-915a-b7cf5f4f6bd8\">\n",
              "  <button class=\"colab-df-quickchart\" onclick=\"quickchart('df-d0a650d3-ae55-41aa-915a-b7cf5f4f6bd8')\"\n",
              "            title=\"Suggest charts.\"\n",
              "            style=\"display:none;\">\n",
              "\n",
              "<svg xmlns=\"http://www.w3.org/2000/svg\" height=\"24px\"viewBox=\"0 0 24 24\"\n",
              "     width=\"24px\">\n",
              "    <g>\n",
              "        <path d=\"M19 3H5c-1.1 0-2 .9-2 2v14c0 1.1.9 2 2 2h14c1.1 0 2-.9 2-2V5c0-1.1-.9-2-2-2zM9 17H7v-7h2v7zm4 0h-2V7h2v10zm4 0h-2v-4h2v4z\"/>\n",
              "    </g>\n",
              "</svg>\n",
              "  </button>\n",
              "\n",
              "<style>\n",
              "  .colab-df-quickchart {\n",
              "    background-color: #E8F0FE;\n",
              "    border: none;\n",
              "    border-radius: 50%;\n",
              "    cursor: pointer;\n",
              "    display: none;\n",
              "    fill: #1967D2;\n",
              "    height: 32px;\n",
              "    padding: 0 0 0 0;\n",
              "    width: 32px;\n",
              "  }\n",
              "\n",
              "  .colab-df-quickchart:hover {\n",
              "    background-color: #E2EBFA;\n",
              "    box-shadow: 0px 1px 2px rgba(60, 64, 67, 0.3), 0px 1px 3px 1px rgba(60, 64, 67, 0.15);\n",
              "    fill: #174EA6;\n",
              "  }\n",
              "\n",
              "  [theme=dark] .colab-df-quickchart {\n",
              "    background-color: #3B4455;\n",
              "    fill: #D2E3FC;\n",
              "  }\n",
              "\n",
              "  [theme=dark] .colab-df-quickchart:hover {\n",
              "    background-color: #434B5C;\n",
              "    box-shadow: 0px 1px 3px 1px rgba(0, 0, 0, 0.15);\n",
              "    filter: drop-shadow(0px 1px 2px rgba(0, 0, 0, 0.3));\n",
              "    fill: #FFFFFF;\n",
              "  }\n",
              "</style>\n",
              "\n",
              "  <script>\n",
              "    async function quickchart(key) {\n",
              "      const charts = await google.colab.kernel.invokeFunction(\n",
              "          'suggestCharts', [key], {});\n",
              "    }\n",
              "    (() => {\n",
              "      let quickchartButtonEl =\n",
              "        document.querySelector('#df-d0a650d3-ae55-41aa-915a-b7cf5f4f6bd8 button');\n",
              "      quickchartButtonEl.style.display =\n",
              "        google.colab.kernel.accessAllowed ? 'block' : 'none';\n",
              "    })();\n",
              "  </script>\n",
              "</div>\n",
              "    </div>\n",
              "  </div>\n"
            ]
          },
          "metadata": {},
          "execution_count": 24
        }
      ]
    },
    {
      "cell_type": "code",
      "source": [
        "data.isnull().sum()"
      ],
      "metadata": {
        "colab": {
          "base_uri": "https://localhost:8080/"
        },
        "id": "0AHplXq5updx",
        "outputId": "dc33dc8b-7b3a-4afd-9e83-c23f616075eb"
      },
      "execution_count": 25,
      "outputs": [
        {
          "output_type": "execute_result",
          "data": {
            "text/plain": [
              "Date                    0\n",
              "Open                    0\n",
              "High                    0\n",
              "Low                     0\n",
              "Last                    0\n",
              "Close                   0\n",
              "Total Trade Quantity    0\n",
              "Turnover (Lacs)         0\n",
              "dtype: int64"
            ]
          },
          "metadata": {},
          "execution_count": 25
        }
      ]
    },
    {
      "cell_type": "code",
      "source": [
        "data.duplicated().sum()"
      ],
      "metadata": {
        "colab": {
          "base_uri": "https://localhost:8080/"
        },
        "id": "IEazvDoYuw51",
        "outputId": "faf12dba-fae2-4517-d396-c5be4dcd6f1e"
      },
      "execution_count": 26,
      "outputs": [
        {
          "output_type": "execute_result",
          "data": {
            "text/plain": [
              "0"
            ]
          },
          "metadata": {},
          "execution_count": 26
        }
      ]
    },
    {
      "cell_type": "code",
      "source": [
        "# Choose the feature to predict (e.g., 'Close' price)\n",
        "target_column = 'Close'"
      ],
      "metadata": {
        "id": "tvc65uuivwRZ"
      },
      "execution_count": 27,
      "outputs": []
    },
    {
      "cell_type": "code",
      "source": [
        "# Extract the target column values\n",
        "target_values = data[target_column].values.reshape(-1, 1)"
      ],
      "metadata": {
        "id": "AX4YMmXpu3gH"
      },
      "execution_count": 28,
      "outputs": []
    },
    {
      "cell_type": "code",
      "source": [
        "# Normalize the target values\n",
        "scaler = MinMaxScaler()\n",
        "target_values_scaled = scaler.fit_transform(target_values)"
      ],
      "metadata": {
        "id": "-xeoCyw3vFOa"
      },
      "execution_count": 29,
      "outputs": []
    },
    {
      "cell_type": "code",
      "source": [
        "# Define the number of past days to use for prediction\n",
        "look_back = 10"
      ],
      "metadata": {
        "id": "V4nQHVG_v-ou"
      },
      "execution_count": 30,
      "outputs": []
    },
    {
      "cell_type": "code",
      "source": [
        "# Create sequences and labels from the data\n",
        "sequences = []\n",
        "labels = []"
      ],
      "metadata": {
        "id": "p7DrZ6JlwB3w"
      },
      "execution_count": 31,
      "outputs": []
    },
    {
      "cell_type": "code",
      "source": [
        "for i in range(len(target_values_scaled) - look_back):\n",
        "    sequences.append(target_values_scaled[i:i+look_back])\n",
        "    labels.append(target_values_scaled[i+look_back])\n",
        "\n",
        "sequences = np.array(sequences)\n",
        "labels = np.array(labels)"
      ],
      "metadata": {
        "id": "La9yyqQXwIhV"
      },
      "execution_count": 32,
      "outputs": []
    },
    {
      "cell_type": "code",
      "source": [
        "# Split the data into training and testing sets\n",
        "train_size = int(0.8 * len(sequences))\n",
        "train_sequences = sequences[:train_size]\n",
        "train_labels = labels[:train_size]\n",
        "test_sequences = sequences[train_size:]\n",
        "test_labels = labels[train_size:]"
      ],
      "metadata": {
        "id": "WJTDKZRZwLpw"
      },
      "execution_count": 33,
      "outputs": []
    },
    {
      "cell_type": "code",
      "source": [
        "# Build the LSTM model\n",
        "model = Sequential([\n",
        "    LSTM(units=50, activation='relu', input_shape=(look_back, 1)),\n",
        "    Dense(units=1)\n",
        "])"
      ],
      "metadata": {
        "id": "E15UNy36wPFT"
      },
      "execution_count": 35,
      "outputs": []
    },
    {
      "cell_type": "code",
      "source": [
        "model.compile(optimizer='adam', loss='mean_squared_error')"
      ],
      "metadata": {
        "id": "_kPxURhTwSxZ"
      },
      "execution_count": 36,
      "outputs": []
    },
    {
      "cell_type": "code",
      "source": [
        "# Train the model\n",
        "model.fit(train_sequences, train_labels, epochs=50, batch_size=32)"
      ],
      "metadata": {
        "id": "HYVlWHwBwWZ2",
        "colab": {
          "base_uri": "https://localhost:8080/"
        },
        "outputId": "c6805966-6643-403f-9ba7-39210077ae6c"
      },
      "execution_count": 37,
      "outputs": [
        {
          "output_type": "stream",
          "name": "stdout",
          "text": [
            "Epoch 1/50\n",
            "51/51 [==============================] - 2s 7ms/step - loss: 0.0508\n",
            "Epoch 2/50\n",
            "51/51 [==============================] - 0s 7ms/step - loss: 0.0023\n",
            "Epoch 3/50\n",
            "51/51 [==============================] - 0s 7ms/step - loss: 0.0010\n",
            "Epoch 4/50\n",
            "51/51 [==============================] - 0s 7ms/step - loss: 9.3943e-04\n",
            "Epoch 5/50\n",
            "51/51 [==============================] - 0s 7ms/step - loss: 8.7660e-04\n",
            "Epoch 6/50\n",
            "51/51 [==============================] - 0s 8ms/step - loss: 7.6779e-04\n",
            "Epoch 7/50\n",
            "51/51 [==============================] - 1s 10ms/step - loss: 7.0791e-04\n",
            "Epoch 8/50\n",
            "51/51 [==============================] - 1s 10ms/step - loss: 6.8577e-04\n",
            "Epoch 9/50\n",
            "51/51 [==============================] - 1s 10ms/step - loss: 6.6130e-04\n",
            "Epoch 10/50\n",
            "51/51 [==============================] - 1s 10ms/step - loss: 6.4489e-04\n",
            "Epoch 11/50\n",
            "51/51 [==============================] - 1s 10ms/step - loss: 6.7329e-04\n",
            "Epoch 12/50\n",
            "51/51 [==============================] - 0s 7ms/step - loss: 6.0992e-04\n",
            "Epoch 13/50\n",
            "51/51 [==============================] - 0s 7ms/step - loss: 6.0171e-04\n",
            "Epoch 14/50\n",
            "51/51 [==============================] - 0s 7ms/step - loss: 6.0379e-04\n",
            "Epoch 15/50\n",
            "51/51 [==============================] - 0s 7ms/step - loss: 5.9043e-04\n",
            "Epoch 16/50\n",
            "51/51 [==============================] - 0s 7ms/step - loss: 5.8482e-04\n",
            "Epoch 17/50\n",
            "51/51 [==============================] - 0s 7ms/step - loss: 5.6883e-04\n",
            "Epoch 18/50\n",
            "51/51 [==============================] - 0s 7ms/step - loss: 5.4382e-04\n",
            "Epoch 19/50\n",
            "51/51 [==============================] - 0s 7ms/step - loss: 5.8588e-04\n",
            "Epoch 20/50\n",
            "51/51 [==============================] - 0s 7ms/step - loss: 5.2439e-04\n",
            "Epoch 21/50\n",
            "51/51 [==============================] - 0s 7ms/step - loss: 5.0286e-04\n",
            "Epoch 22/50\n",
            "51/51 [==============================] - 0s 6ms/step - loss: 5.1834e-04\n",
            "Epoch 23/50\n",
            "51/51 [==============================] - 0s 6ms/step - loss: 5.2696e-04\n",
            "Epoch 24/50\n",
            "51/51 [==============================] - 0s 7ms/step - loss: 4.8260e-04\n",
            "Epoch 25/50\n",
            "51/51 [==============================] - 0s 7ms/step - loss: 4.8578e-04\n",
            "Epoch 26/50\n",
            "51/51 [==============================] - 0s 10ms/step - loss: 4.9009e-04\n",
            "Epoch 27/50\n",
            "51/51 [==============================] - 1s 14ms/step - loss: 4.5033e-04\n",
            "Epoch 28/50\n",
            "51/51 [==============================] - 0s 6ms/step - loss: 4.6475e-04\n",
            "Epoch 29/50\n",
            "51/51 [==============================] - 0s 6ms/step - loss: 4.6456e-04\n",
            "Epoch 30/50\n",
            "51/51 [==============================] - 0s 7ms/step - loss: 4.2227e-04\n",
            "Epoch 31/50\n",
            "51/51 [==============================] - 0s 7ms/step - loss: 4.5504e-04\n",
            "Epoch 32/50\n",
            "51/51 [==============================] - 0s 6ms/step - loss: 4.4535e-04\n",
            "Epoch 33/50\n",
            "51/51 [==============================] - 0s 6ms/step - loss: 4.2398e-04\n",
            "Epoch 34/50\n",
            "51/51 [==============================] - 0s 6ms/step - loss: 4.0513e-04\n",
            "Epoch 35/50\n",
            "51/51 [==============================] - 0s 6ms/step - loss: 3.8930e-04\n",
            "Epoch 36/50\n",
            "51/51 [==============================] - 0s 7ms/step - loss: 3.9052e-04\n",
            "Epoch 37/50\n",
            "51/51 [==============================] - 0s 7ms/step - loss: 3.8179e-04\n",
            "Epoch 38/50\n",
            "51/51 [==============================] - 0s 6ms/step - loss: 3.9825e-04\n",
            "Epoch 39/50\n",
            "51/51 [==============================] - 0s 7ms/step - loss: 3.8606e-04\n",
            "Epoch 40/50\n",
            "51/51 [==============================] - 1s 11ms/step - loss: 3.6348e-04\n",
            "Epoch 41/50\n",
            "51/51 [==============================] - 1s 18ms/step - loss: 3.7813e-04\n",
            "Epoch 42/50\n",
            "51/51 [==============================] - 1s 13ms/step - loss: 3.8336e-04\n",
            "Epoch 43/50\n",
            "51/51 [==============================] - 1s 18ms/step - loss: 3.6388e-04\n",
            "Epoch 44/50\n",
            "51/51 [==============================] - 0s 8ms/step - loss: 3.4175e-04\n",
            "Epoch 45/50\n",
            "51/51 [==============================] - 0s 6ms/step - loss: 3.4821e-04\n",
            "Epoch 46/50\n",
            "51/51 [==============================] - 0s 6ms/step - loss: 3.7814e-04\n",
            "Epoch 47/50\n",
            "51/51 [==============================] - 0s 7ms/step - loss: 3.5566e-04\n",
            "Epoch 48/50\n",
            "51/51 [==============================] - 0s 6ms/step - loss: 3.6330e-04\n",
            "Epoch 49/50\n",
            "51/51 [==============================] - 0s 7ms/step - loss: 3.6351e-04\n",
            "Epoch 50/50\n",
            "51/51 [==============================] - 0s 7ms/step - loss: 3.9845e-04\n"
          ]
        },
        {
          "output_type": "execute_result",
          "data": {
            "text/plain": [
              "<keras.callbacks.History at 0x786c332df4c0>"
            ]
          },
          "metadata": {},
          "execution_count": 37
        }
      ]
    },
    {
      "cell_type": "code",
      "source": [
        "# Make predictions\n",
        "predicted_labels_scaled = model.predict(test_sequences)"
      ],
      "metadata": {
        "colab": {
          "base_uri": "https://localhost:8080/"
        },
        "id": "hipijjmywZqV",
        "outputId": "10e954ce-1b4e-4573-8c44-b43b308027df"
      },
      "execution_count": 38,
      "outputs": [
        {
          "output_type": "stream",
          "name": "stdout",
          "text": [
            "13/13 [==============================] - 0s 3ms/step\n"
          ]
        }
      ]
    },
    {
      "cell_type": "code",
      "source": [
        "# Inverse transform the scaled predictions to original scale\n",
        "predicted_labels = scaler.inverse_transform(predicted_labels_scaled)"
      ],
      "metadata": {
        "id": "IE8iAORIwcU8"
      },
      "execution_count": 39,
      "outputs": []
    },
    {
      "cell_type": "code",
      "source": [
        "# Calculate RMSE\n",
        "rmse = np.sqrt(mean_squared_error(test_labels, predicted_labels))\n",
        "print(\"Root Mean Squared Error:\", rmse)"
      ],
      "metadata": {
        "colab": {
          "base_uri": "https://localhost:8080/"
        },
        "id": "UgYeddyrwq11",
        "outputId": "5a49e5c1-13d0-4086-ddcd-d4ba710a27d9"
      },
      "execution_count": 43,
      "outputs": [
        {
          "output_type": "stream",
          "name": "stdout",
          "text": [
            "Root Mean Squared Error: 103.19529502952875\n"
          ]
        }
      ]
    },
    {
      "cell_type": "code",
      "source": [
        "# Plot the actual vs. predicted values\n",
        "plt.plot(test_labels, label='Actual')\n",
        "plt.plot(predicted_labels, label='Predicted')\n",
        "plt.legend()\n",
        "plt.show()"
      ],
      "metadata": {
        "colab": {
          "base_uri": "https://localhost:8080/",
          "height": 430
        },
        "id": "n91usRqvxCv3",
        "outputId": "1d64f0b4-9aaa-4241-f624-cc72d9ddbd02"
      },
      "execution_count": 44,
      "outputs": [
        {
          "output_type": "display_data",
          "data": {
            "text/plain": [
              "<Figure size 640x480 with 1 Axes>"
            ],
            "image/png": "[encoded data removed]"
          },
          "metadata": {}
        }
      ]
    }
  ]
}